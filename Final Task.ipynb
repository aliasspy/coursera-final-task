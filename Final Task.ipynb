{
 "cells": [
  {
   "cell_type": "markdown",
   "id": "8a95b054-e909-4b2e-a83d-3c32f48dfd79",
   "metadata": {},
   "source": [
    "# My Jupyter Notebook on IBM Watson Studio"
   ]
  },
  {
   "cell_type": "markdown",
   "id": "d2a64612-8e1d-41a5-9062-330bff2bdbac",
   "metadata": {},
   "source": [
    "**I am Aliasger Nagree**  \n",
    "I currently work as a product data analyst."
   ]
  },
  {
   "cell_type": "markdown",
   "id": "214884d1-ff6b-4e5a-a636-e45cb7b727e9",
   "metadata": {},
   "source": [
    "*I am interested in data science because I like the idea of how humans can play with data to get useful insights which cant be known to us otherwise and i would really like to do that in sports analytics sector*"
   ]
  },
  {
   "cell_type": "markdown",
   "id": "e2f6a676-0cf4-4e5f-a9d7-c53ca2bf23ee",
   "metadata": {},
   "source": [
    "### Below is a very basic math code of area of a square"
   ]
  },
  {
   "cell_type": "code",
   "execution_count": 3,
   "id": "779ac16a-9898-4381-9f15-c362b989e78c",
   "metadata": {},
   "outputs": [
    {
     "name": "stdout",
     "output_type": "stream",
     "text": [
      "25\n"
     ]
    }
   ],
   "source": [
    "a=5\n",
    "print(5**2)"
   ]
  },
  {
   "cell_type": "markdown",
   "id": "1f7f1807-7afa-4e61-99f1-952645fa0013",
   "metadata": {},
   "source": [
    "- This \n",
    "- is \n",
    "- my \n",
    "- bulleted \n",
    "- list \n",
    "\n",
    "| This | is my | Table |\n",
    "| :- | -: | :-: |\n",
    "| this is | 2nd | task |\n",
    "\n",
    "\n",
    "[This is how you insert a link bro](https://stackoverflow.com/questions/25692293/inserting-a-link-to-a-webpage-in-an-ipython-notebook)\n"
   ]
  },
  {
   "cell_type": "code",
   "execution_count": null,
   "id": "d72ceb23-b56f-45bd-8480-593112f34bd6",
   "metadata": {},
   "outputs": [],
   "source": []
  }
 ],
 "metadata": {
  "kernelspec": {
   "display_name": "Python",
   "language": "python",
   "name": "conda-env-python-py"
  },
  "language_info": {
   "codemirror_mode": {
    "name": "ipython",
    "version": 3
   },
   "file_extension": ".py",
   "mimetype": "text/x-python",
   "name": "python",
   "nbconvert_exporter": "python",
   "pygments_lexer": "ipython3",
   "version": "3.7.12"
  }
 },
 "nbformat": 4,
 "nbformat_minor": 5
}
